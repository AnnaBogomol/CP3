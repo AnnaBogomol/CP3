{
  "nbformat": 4,
  "nbformat_minor": 0,
  "metadata": {
    "kernelspec": {
      "display_name": "Python 3",
      "language": "python",
      "name": "python3"
    },
    "language_info": {
      "codemirror_mode": {
        "name": "ipython",
        "version": 3
      },
      "file_extension": ".py",
      "mimetype": "text/x-python",
      "name": "python",
      "nbconvert_exporter": "python",
      "pygments_lexer": "ipython3",
      "version": "3.7.4"
    },
    "colab": {
      "name": "Untitled.ipynb",
      "provenance": [],
      "include_colab_link": true
    }
  },
  "cells": [
    {
      "cell_type": "markdown",
      "metadata": {
        "id": "view-in-github",
        "colab_type": "text"
      },
      "source": [
        "<a href=\"https://colab.research.google.com/github/AnnaBogomol/CP3/blob/master/Untitled.ipynb\" target=\"_parent\"><img src=\"https://colab.research.google.com/assets/colab-badge.svg\" alt=\"Open In Colab\"/></a>"
      ]
    },
    {
      "cell_type": "code",
      "metadata": {
        "id": "qMa8GmpkJZuA",
        "colab_type": "code",
        "outputId": "17f47a48-c215-4df2-9e81-54a4c08d6d7d",
        "colab": {
          "base_uri": "https://localhost:8080/",
          "height": 255
        }
      },
      "source": [
        "# импортируем библиотеки\n",
        "from ludwig.api import LudwigModel\n",
        "import pandas as pd\n",
        "# считываем файл\n",
        "df = pd.read_csv('datasets_2015.csv')\n",
        "print(df)\n",
        "# указываем на каких данных тренируем модель\n",
        "model_definition = {\n",
        "   'input_features':[\n",
        "       {'name': 'Country', 'type': 'text'},\n",
        "       {'name': 'Freedom', 'type': 'text'}\n",
        "   ],\n",
        "   'output_features':[\n",
        "       {'name': 'Generosity', 'type': 'numerical'}\n",
        "   ]\n",
        "}\n",
        "# непосредственно тренировка\n",
        "model = LudwigModel(model_definition)\n",
        "train_stats = model.train(df)\n"
      ],
      "execution_count": 20,
      "outputs": [
        {
          "output_type": "stream",
          "text": [
            "         Country  ... Dystopia Residual\n",
            "0    Switzerland  ...           2.51738\n",
            "1        Iceland  ...           2.70201\n",
            "2        Denmark  ...           2.49204\n",
            "3         Norway  ...           2.46531\n",
            "4         Canada  ...           2.45176\n",
            "..           ...  ...               ...\n",
            "153       Rwanda  ...           0.67042\n",
            "154        Benin  ...           1.63328\n",
            "155        Syria  ...           0.32858\n",
            "156      Burundi  ...           1.83302\n",
            "157         Togo  ...           1.56726\n",
            "\n",
            "[158 rows x 12 columns]\n"
          ],
          "name": "stdout"
        }
      ]
    },
    {
      "cell_type": "code",
      "metadata": {
        "id": "OfySa9AERqzv",
        "colab_type": "code",
        "colab": {}
      },
      "source": [
        ""
      ],
      "execution_count": 0,
      "outputs": []
    },
    {
      "cell_type": "code",
      "metadata": {
        "id": "2Krp2-PNCaz0",
        "colab_type": "code",
        "outputId": "db433849-1a67-432f-ce96-a8c9e9e70825",
        "colab": {
          "base_uri": "https://localhost:8080/",
          "height": 122
        }
      },
      "source": [
        "from google.colab import drive\n",
        "drive.mount('/content/drive')"
      ],
      "execution_count": 0,
      "outputs": [
        {
          "output_type": "stream",
          "text": [
            "Go to this URL in a browser: https://accounts.google.com/o/oauth2/auth?client_id=947318989803-6bn6qk8qdgf4n4g3pfee6491hc0brc4i.apps.googleusercontent.com&redirect_uri=urn%3aietf%3awg%3aoauth%3a2.0%3aoob&response_type=code&scope=email%20https%3a%2f%2fwww.googleapis.com%2fauth%2fdocs.test%20https%3a%2f%2fwww.googleapis.com%2fauth%2fdrive%20https%3a%2f%2fwww.googleapis.com%2fauth%2fdrive.photos.readonly%20https%3a%2f%2fwww.googleapis.com%2fauth%2fpeopleapi.readonly\n",
            "\n",
            "Enter your authorization code:\n",
            "··········\n",
            "Mounted at /content/drive\n"
          ],
          "name": "stdout"
        }
      ]
    },
    {
      "cell_type": "code",
      "metadata": {
        "id": "1IjsSq9VJZuI",
        "colab_type": "code",
        "colab": {}
      },
      "source": [
        ""
      ],
      "execution_count": 0,
      "outputs": []
    },
    {
      "cell_type": "code",
      "metadata": {
        "id": "1PhBRMl7JZuO",
        "colab_type": "code",
        "colab": {}
      },
      "source": [
        ""
      ],
      "execution_count": 0,
      "outputs": []
    }
  ]
}